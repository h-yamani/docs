{
  "cells": [
    {
      "cell_type": "markdown",
      "metadata": {
        "id": "view-in-github",
        "colab_type": "text"
      },
      "source": [
        "<a href=\"https://colab.research.google.com/github/h-yamani/docs/blob/main/tensors_and_numpy.ipynb\" target=\"_parent\"><img src=\"https://colab.research.google.com/assets/colab-badge.svg\" alt=\"Open In Colab\"/></a>"
      ]
    },
    {
      "cell_type": "markdown",
      "metadata": {
        "id": "FnATFV5yzrJN"
      },
      "source": [
        "### Working with PyTorch and NumPy"
      ]
    },
    {
      "cell_type": "code",
      "execution_count": 1,
      "metadata": {
        "id": "HbpHoonfzrJQ"
      },
      "outputs": [],
      "source": [
        "import torch\n",
        "import numpy as np"
      ]
    },
    {
      "cell_type": "markdown",
      "metadata": {
        "id": "zvalgR1IzrJW"
      },
      "source": [
        "Convert a NumPy array to Tensor"
      ]
    },
    {
      "cell_type": "code",
      "execution_count": 2,
      "metadata": {
        "colab": {
          "base_uri": "https://localhost:8080/"
        },
        "id": "mA3pQ0sXzrJY",
        "outputId": "18326a2a-e1f0-4e62-e7e6-d481b27907e4"
      },
      "outputs": [
        {
          "output_type": "stream",
          "name": "stdout",
          "text": [
            "[2 3]\n",
            "tensor([2, 3])\n"
          ]
        }
      ],
      "source": [
        "n = np.array([2, 3])\n",
        "t = torch.from_numpy(n)\n",
        "print(n)\n",
        "print(t)"
      ]
    },
    {
      "cell_type": "markdown",
      "metadata": {
        "id": "r8G1XakVzrJZ"
      },
      "source": [
        "Change a Tensor value, and see the change in \n",
        "corresponding NumPy array"
      ]
    },
    {
      "cell_type": "code",
      "execution_count": 3,
      "metadata": {
        "colab": {
          "base_uri": "https://localhost:8080/"
        },
        "id": "d6rrDouRzrJb",
        "outputId": "46fa1d9f-5da6-401b-f025-e59ebb504e68"
      },
      "outputs": [
        {
          "output_type": "stream",
          "name": "stdout",
          "text": [
            "tensor([100,   3])\n"
          ]
        }
      ],
      "source": [
        "n[0] = 100\n",
        "print(t)"
      ]
    },
    {
      "cell_type": "markdown",
      "metadata": {
        "id": "7ntarZoyzrJd"
      },
      "source": [
        "Convert a Tensor to NumPy array"
      ]
    },
    {
      "cell_type": "code",
      "execution_count": 4,
      "metadata": {
        "colab": {
          "base_uri": "https://localhost:8080/"
        },
        "id": "_XU2JeBlzrJf",
        "outputId": "59835079-ffc6-4fa5-c741-3bc3da107664"
      },
      "outputs": [
        {
          "output_type": "stream",
          "name": "stdout",
          "text": [
            "tensor([5., 6.])\n",
            "[5. 6.]\n"
          ]
        }
      ],
      "source": [
        "t = torch.FloatTensor([5, 6])\n",
        "n = t.numpy()\n",
        "print(t)\n",
        "print(n)"
      ]
    },
    {
      "cell_type": "markdown",
      "metadata": {
        "id": "DIqkYh95zrJh"
      },
      "source": [
        "Change a Tensor value, and see the change in corresponding NumPy array"
      ]
    },
    {
      "cell_type": "code",
      "execution_count": 5,
      "metadata": {
        "colab": {
          "base_uri": "https://localhost:8080/"
        },
        "id": "hsVA-TpRzrJj",
        "outputId": "38e0f1df-aad8-4299-8077-886c1ec4049d"
      },
      "outputs": [
        {
          "output_type": "stream",
          "name": "stdout",
          "text": [
            "[100.   6.]\n"
          ]
        }
      ],
      "source": [
        "t[0] = 100\n",
        "print(n)"
      ]
    }
  ],
  "metadata": {
    "kernelspec": {
      "display_name": "Python 3",
      "language": "python",
      "name": "python3"
    },
    "language_info": {
      "codemirror_mode": {
        "name": "ipython",
        "version": 3
      },
      "file_extension": ".py",
      "mimetype": "text/x-python",
      "name": "python",
      "nbconvert_exporter": "python",
      "pygments_lexer": "ipython3",
      "version": "3.6.4"
    },
    "colab": {
      "name": "1.6.tensors.and.numpy.ipynb",
      "provenance": [],
      "include_colab_link": true
    }
  },
  "nbformat": 4,
  "nbformat_minor": 0
}